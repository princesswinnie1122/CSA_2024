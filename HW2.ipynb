{
 "cells": [
  {
   "cell_type": "markdown",
   "metadata": {},
   "source": [
    "<div class=\"alert alert-block alert-warning\">\n",
    "<font size=\"5\">\n",
    "<b>Important Notes</b></font><br>\n",
    "<br>\n",
    "<font size=\"4\">\n",
    "<ul>\n",
    "  <li>File names should follow the format: HWX_StudentID_Name, where X is the assignment number.</li>\n",
    "    <br>\n",
    "  <li>Please upload it to NTHU eeclass and be awared of the deadline.</li>\n",
    "    <br>\n",
    "  <li>Late submissions are generally not accepted, and a late submission will result in a score of 0. If there are any special circumstances, please contact the instructor for clarification.</li>\n",
    "    <br>\n",
    "  <li>Plagiarism is strictly prohibited (whether copying from others, the internet, or books). If any references are used, they must be properly cited. Both the plagiarizer and the source of the plagiarism will receive a score of 0. Allowing someone else to copy your assignment is not helping but harming them.</li>\n",
    "    <br>\n",
    "  <li>Code should be written in the \"Python Cell\" below the question, with comments if needed. If responses to questions and interpretations of results are needed, they should be written in the \"Markdown Cell\" below the Python cell.</li>\n",
    "</ul>\n",
    "</font>\n",
    "</div>"
   ]
  },
  {
   "cell_type": "markdown",
   "metadata": {},
   "source": [
    "### 1. Input control and while loop (40%)\n",
    "A while loop can be used to control the user-specified input until the condition is met. In the following questions we will see how it works."
   ]
  },
  {
   "cell_type": "markdown",
   "metadata": {},
   "source": [
    "(a) (10%) To be able to give the code with a user-specified input N, we can use the input() function. The input() function is used to take user input from the keyboard. It allows the user to enter data interactively during the execution of a program. The prompt message can be specified inside (). For example:\n",
    "```python\n",
    "a = input(\"Please input an integer:\")\n",
    "print(a)\n",
    "```\n",
    "Upon execution of the code, there will be a pop-up window for you to input something (shown below).  \n",
    "\n",
    "\n",
    "<img src=\"https://i.imgur.com/jSISNEm.png\" width=\"350\"/>\n",
    "\n",
    "\n",
    "If your input is 10, you'll get:\n",
    "```text\n",
    "10\n",
    "```\n",
    "\n",
    "Following the example above, please write a code that\n",
    "* Use input() to take a user-specified input and assign it to a\n",
    "* The prompt message should be \"Please input an integer:\"\n",
    "* Enter a number\n",
    "* Print a and its type.\n",
    "* Convert a to integer and assign it to b.\n",
    "* Print b and its type.  \n",
    "\n",
    "\n",
    "If your input is 10, you'll get:\n",
    "```text\n",
    "10 <class 'str'>\n",
    "10 <class 'int'>\n",
    "```"
   ]
  },
  {
   "cell_type": "code",
   "execution_count": 1,
   "metadata": {},
   "outputs": [
    {
     "name": "stdout",
     "output_type": "stream",
     "text": [
      "10 <class 'str'>\n",
      "10 <class 'int'>\n"
     ]
    }
   ],
   "source": [
    "a = input(\"Please input an integer:\")\n",
    "print(a, type(a))\n",
    "b = int(a)\n",
    "print(b, type(b))"
   ]
  },
  {
   "cell_type": "markdown",
   "metadata": {},
   "source": [
    "(b) (10%) In Python, isnumeric() is a string method that is used to check if all the characters in a given string are numeric (i.e., if the string represents a non-negative integer). The isnumeric() method returns True if all characters in the string are numeric, and False otherwise. For example,\n",
    "```python\n",
    "a = 'Python'\n",
    "b = '314'\n",
    "print(f'Is {a} a non-negative integer? {a.isnumeric()}')\n",
    "print(f'Is {b} a non-negative integer? {b.isnumeric()}')\n",
    "```\n",
    "The result would be:\n",
    "```text\n",
    "Is Python a non-negative integer? False\n",
    "Is 314 a non-negative integer? True\n",
    "```\n",
    "Following the example above, please write a code that\n",
    "* Use input() to take a user-specified input and assign it to a\n",
    "* The prompt message should be \"Please input a non-negative integer:\"\n",
    "* Enter anything\n",
    "* If a is a non-negative integer, print('Valid input')\n",
    "* If a is not a non-negative integer, print('Invalid input')\n",
    "\n",
    "Test you code:  \n",
    "If your input is abc, you'll get:\n",
    "```text\n",
    "Invalid input\n",
    "```\n",
    "if your input is 3.14 you'll get:\n",
    "```text\n",
    "Invalid input\n",
    "```\n",
    "if your input is 3 you'll get:\n",
    "```text\n",
    "Valid input\n",
    "```"
   ]
  },
  {
   "cell_type": "code",
   "execution_count": 4,
   "metadata": {},
   "outputs": [
    {
     "name": "stdout",
     "output_type": "stream",
     "text": [
      "Valid input\n"
     ]
    }
   ],
   "source": [
    "a = input(\"Please input a non-negative integer:\")\n",
    "if(a.isnumeric()):\n",
    "    print(\"Valid input\")\n",
    "else:\n",
    "    print(\"Invalid input\")"
   ]
  },
  {
   "cell_type": "markdown",
   "metadata": {},
   "source": [
    "(c) (20%) Finally, you're asked to write a code that fulfills the following requirement:\n",
    "\n",
    "* Use the while True loop\n",
    "* Use input() to take a user-specified input and assign it to a\n",
    "* The prompt message should be \"Please input a non-negatvie integer:\"\n",
    "* If a is a non-negative integer, print('Valid input') and break the loop\n",
    "* If a is not a non-negative integer, print('Invalid input') and use input() again to get a new input, assigning to a\n",
    "\n",
    "Test you code:  \n",
    "You subsequntly enter the following inputs:\n",
    "* a\n",
    "* 3.42\n",
    "* fdsk\n",
    "* pi\n",
    "* 5\n",
    "\n",
    "Your code should output:\n",
    "```text\n",
    "Invalid input\n",
    "Invalid input\n",
    "Invalid input\n",
    "Invalid input\n",
    "Valid input\n",
    "```"
   ]
  },
  {
   "cell_type": "code",
   "execution_count": 1,
   "metadata": {},
   "outputs": [
    {
     "name": "stdout",
     "output_type": "stream",
     "text": [
      "Invalid input\n",
      "Invalid input\n",
      "Invalid input\n",
      "Invalid input\n",
      "Invalid input\n",
      "Invalid input\n",
      "Valid input\n"
     ]
    }
   ],
   "source": [
    "while(True):\n",
    "    a = input(\"Please input a non-negative integer:\")\n",
    "    if(a.isnumeric()):\n",
    "        print(\"Valid input\")   \n",
    "    else: \n",
    "        print(\"Invalid input\")"
   ]
  },
  {
   "cell_type": "markdown",
   "metadata": {},
   "source": [
    "### 2. Fibonacci numbers (50%)\n",
    "Fibonacci numbers form a sequence of numbers in which each number is the sum of the two preceding ones, usually starting with 0 and 1. Here, let's consider the case starting from 0. The sequence begins: 0, 1, 1, 2, 3, 5, 8, 13, 21, 34, and so on. The Fibonacci sequence is defined by the recurrence relation:  \n",
    "$$ F(n)=F(n−1)+F(n−2)$$  \n",
    "with initial conditions \n",
    "$$ F(0)=0, F(1)=1 $$\n",
    "This means that each subsequent number in the sequence is the sum of the two preceding ones.\n",
    "Following the steps below, we will generate a code that will print the first N Fibonacci numbers."
   ]
  },
  {
   "cell_type": "markdown",
   "metadata": {},
   "source": [
    "(a) (10%) Write a code that generates the first 10 Fibonacci numbers following the procedures (if you want to try it yourself, you could neglect the following hints):\n",
    "\n",
    "* Initialize two objects: F0 = 0, F1 = 1\n",
    "* Create a initial list FIB = [F0, F1] to store the number. \n",
    "* Use a for loop iterating 8 times.\n",
    "* In each loop, do the following\n",
    "```python\n",
    "F2 = F0 + F1   # Assign F0+F1 to F2 according to definition\n",
    "F0 = F1        # The old F1 becomes new F0\n",
    "F1 = F2        # The old F2 becomes new F1\n",
    "FIB.append(F2) # Append F2 into FIB\n",
    "```\n",
    "* Print FIB\n",
    "\n",
    "Your output should look like:\n",
    "```text\n",
    "[0, 1, 1, 2, 3, 5, 8, 13, 21, 34]\n",
    "```"
   ]
  },
  {
   "cell_type": "code",
   "execution_count": 1,
   "metadata": {},
   "outputs": [
    {
     "name": "stdout",
     "output_type": "stream",
     "text": [
      "[0, 1, 1, 2, 3, 5, 8, 13, 21, 34]\n"
     ]
    }
   ],
   "source": [
    "F0 = 0\n",
    "F1 = 1\n",
    "FIB = [F0, F1]\n",
    "for i in range (8):\n",
    "    FIB.append(FIB[i]+FIB[i+1])\n",
    "print(FIB)"
   ]
  },
  {
   "cell_type": "markdown",
   "metadata": {},
   "source": [
    "(b) (40%) Write a code that generates the first N Fibonacci numbers, where N is coming from the user-specified input using the input() function we introduced in Q1. The code that fulfills the following requirement:\n",
    "\n",
    "* Use the while True loop\n",
    "* Use input() to take a user-specified input and assign it to N\n",
    "* The prompt message should be \"Please input a positive integer:\"\n",
    "* If N is a positive integer, print(f'The first {N} Fibonacci numbers are: {FIB}') and break the loop, where FIB is the list containing the first N Fibonacci numbers as discussed in Q2(a).\n",
    "* If N is not a positive integer, print('Invalid input') and use input() again to get a new input, assigning to N\n",
    "\n",
    "\n",
    "Hint: in addition to combining 1(c) and 2(a); you need to consider the case when N is 0 because it is non-negative but not positive. That is, your code should print('Invalid input') when N=0. To do this, you may need if, elif, else. \n",
    "\n",
    "**Please also remember to put comment in the code so that the TA could better understand your code.**\n",
    "\n",
    "Test you code:  \n",
    "If your input is abc, you'll get:\n",
    "```text\n",
    "Invalid input\n",
    "```\n",
    "If your input is 3.12, you'll get:\n",
    "```text\n",
    "Invalid input\n",
    "```\n",
    "If your input is -5, you'll get:\n",
    "```text\n",
    "Invalid input\n",
    "```\n",
    "If your input is 0 you'll get:\n",
    "```text\n",
    "Invalid input\n",
    "```\n",
    "If your input is 1 you'll get:\n",
    "```text\n",
    "The first 1 Fibonacci numbers are: [0]\n",
    "```\n",
    "If your input is 2 you'll get:\n",
    "```text\n",
    "The first 2 Fibonacci numbers are: [0, 1]\n",
    "```\n",
    "If your input is 5 you'll get:\n",
    "```text\n",
    "The first 5 Fibonacci numbers are: [0, 1, 1, 2, 3]\n",
    "```"
   ]
  },
  {
   "cell_type": "code",
   "execution_count": 1,
   "metadata": {},
   "outputs": [
    {
     "name": "stdout",
     "output_type": "stream",
     "text": [
      "Invalid input\n"
     ]
    }
   ],
   "source": [
    "while True:\n",
    "    N = input(\"Please input a positive integer:\")\n",
    "    if N.isdigit() and int(N) != 0:  # 還要確定不是0\n",
    "        n = int(N)\n",
    "        F0, F1 = 0, 1 \n",
    "        if n == 1: # 第一個直接印\n",
    "            FIB = [0] \n",
    "        else:\n",
    "            FIB = [F0, F1] \n",
    "            for i in range(2, n): # 因為前兩個已經有了，如果是2不用再加\n",
    "                a = FIB[i-1] + FIB[i-2] # FIB[i] = FIB[i-1] + FIB[i-2]\n",
    "                FIB.append(a)\n",
    "        print(FIB) \n",
    "    else:\n",
    "        print(\"Invalid input\")  \n"
   ]
  },
  {
   "cell_type": "markdown",
   "metadata": {},
   "source": [
    "### 3. Membership operators (10%)\n",
    "Python’s membership operators test for membership in a sequence, such as strings, lists, tuples and etc. For example,\n",
    "```python\n",
    "a = [1,3,5,2,3,2,5,3,6,132,5]\n",
    "print(3 in a)\n",
    "print(3 not in a)\n",
    "```\n",
    "The reuslt would be  \n",
    "```text\n",
    "True\n",
    "False \n",
    "```\n",
    "Following the example above, please write a code that\n",
    "* Assign a string object 'I love Python so much that I practice it everyday' to a.\n",
    "* Use membership operator to check if 'love' is in a, and assign the result to b\n",
    "* Use membership operator to check if 'hate' is in a, and assign the result to c\n",
    "* Print the following sentences using f-string, {b} and {c}\n",
    "\n",
    "\n",
    "You should get the output as follows:\n",
    "```text\n",
    "Do you love Python? True.\n",
    "Do you hate Python? False.\n",
    "```"
   ]
  },
  {
   "cell_type": "code",
   "execution_count": 1,
   "metadata": {},
   "outputs": [
    {
     "name": "stdout",
     "output_type": "stream",
     "text": [
      "Do you love Python? True.\n",
      "Do you hate Python? False.\n"
     ]
    }
   ],
   "source": [
    "a = 'I love Python so much that I practice it everyday'\n",
    "b = 'love' in a\n",
    "c = 'hate' in a\n",
    "\n",
    "print(f\"Do you love Python? {b}.\")\n",
    "print(f\"Do you hate Python? {c}.\")"
   ]
  }
 ],
 "metadata": {
  "kernelspec": {
   "display_name": "Python 3 (ipykernel)",
   "language": "python",
   "name": "python3"
  },
  "language_info": {
   "codemirror_mode": {
    "name": "ipython",
    "version": 3
   },
   "file_extension": ".py",
   "mimetype": "text/x-python",
   "name": "python",
   "nbconvert_exporter": "python",
   "pygments_lexer": "ipython3",
   "version": "3.11.4"
  }
 },
 "nbformat": 4,
 "nbformat_minor": 4
}
