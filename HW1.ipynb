{
 "cells": [
  {
   "cell_type": "markdown",
   "metadata": {},
   "source": [
    "<div class=\"alert alert-block alert-warning\">\n",
    "<font size=\"5\">\n",
    "<b>Important Notes</b></font><br>\n",
    "<br>\n",
    "<font size=\"4\">\n",
    "<ul>\n",
    "  <li>File names should follow the format: HWX_StudentID_Name, where X is the assignment number.</li>\n",
    "    <br>\n",
    "  <li>Please upload it to NTHU eeclass and be awared of the deadline.</li>\n",
    "    <br>\n",
    "  <li>Late submissions are generally not accepted, and a late submission will result in a score of 0. If there are any special circumstances, please contact the instructor for clarification.</li>\n",
    "    <br>\n",
    "  <li>Plagiarism is strictly prohibited (whether copying from others, the internet, or books). If any references are used, they must be properly cited. Both the plagiarizer and the source of the plagiarism will receive a score of 0. Allowing someone else to copy your assignment is not helping but harming them.</li>\n",
    "    <br>\n",
    "  <li>Code should be written in the \"Python Cell\" below the question, with comments if needed. If responses to questions and interpretations of results are needed, they should be written in the \"Markdown Cell\" below the Python cell.</li>\n",
    "</ul>\n",
    "</font>\n",
    "</div>"
   ]
  },
  {
   "cell_type": "markdown",
   "metadata": {},
   "source": [
    "### 1. Markdown math extensions (10%)\n",
    "Generate markdown content identical to the image below using Markdown math extensions, using the markdown cell below for your response.  \n",
    "<img src=\"https://i.imgur.com/v47rAhY.png\" width=\"300\" />\n"
   ]
  },
  {
   "cell_type": "markdown",
   "metadata": {},
   "source": [
    "$$\n",
    "\\frac{d^2x}{dt^2} + a\\frac{dx}{dt}+f(x) = 0\n",
    "$$"
   ]
  },
  {
   "cell_type": "markdown",
   "metadata": {},
   "source": [
    "### 2. Play with string data in Python (50%)\n",
    "In the class, we have introduced how to \"manipulate\" numerical values in Python, such as basic operations like +, -, *, /, etc. In addition to numerical data types (int, float), strings are also essential and commonly used in Python. The following exercises will demonstrate some interesting operations and properties of strings."
   ]
  },
  {
   "cell_type": "markdown",
   "metadata": {},
   "source": [
    "(a) (10%) You can use the + operator to concatenate two strings. For example,\n",
    "```python\n",
    "a = 'Hello'\n",
    "b = ' world!'\n",
    "print(a+b)\n",
    "```\n",
    "The reuslt would be  \n",
    "```text\n",
    "Hello world! \n",
    "```\n",
    "Following the example above, please write a code that\n",
    "* Assign \"Python\" to a, \"is\" to b, and \"interesting\" to c\n",
    "* Combine a, b, and c, using \"+\" operator, in a way that there's a **space** between a,b and b,c, respectively.\n",
    "* Assign the combined string to d\n",
    "* Print d\n",
    "\n",
    "\n",
    "You should get the output as follows:\n",
    "```text\n",
    "Python is interesting\n",
    "```"
   ]
  },
  {
   "cell_type": "code",
   "execution_count": 1,
   "metadata": {},
   "outputs": [
    {
     "name": "stdout",
     "output_type": "stream",
     "text": [
      "Python is interesting\n"
     ]
    }
   ],
   "source": [
    "a = 'Python'\n",
    "b = 'is'\n",
    "c = 'interesting'\n",
    "d = a + ' ' + b + ' ' + c\n",
    "print(d)"
   ]
  },
  {
   "cell_type": "markdown",
   "metadata": {},
   "source": [
    "(b) (10%) Python has a useful function that can return the length of a string (as an integer object), indicating how many characters are in the string (including spaces and other symbols). This function is len(). For example, if a = 'Hey Jude!', len(a) would yield 9, as shown below:\n",
    "```python\n",
    "a = 'Hey Jude!'\n",
    "b = len(a)\n",
    "print(b)\n",
    "print(type(b))\n",
    "```\n",
    "The result is:\n",
    "```text\n",
    "9\n",
    "<class 'int'>\n",
    "```\n",
    "Following the example above, please write a code that\n",
    "* Assign \"Take a sad song and make it better.\" to a.\n",
    "* Print the length of a.\n",
    "\n",
    "You should get the output as follows:\n",
    "```text\n",
    "35\n",
    "```"
   ]
  },
  {
   "cell_type": "code",
   "execution_count": 2,
   "metadata": {},
   "outputs": [
    {
     "name": "stdout",
     "output_type": "stream",
     "text": [
      "35\n"
     ]
    }
   ],
   "source": [
    "a = 'Take a sad song and make it better.'\n",
    "print(len(a))"
   ]
  },
  {
   "cell_type": "markdown",
   "metadata": {},
   "source": [
    "(c) (10%) You can select the nth character within a string using [n]. For example, if a = 'Hello', then a[0] would be 'H' because Python counts from 0. Similarly, a[1] would be 'e', and a[2] would be 'l'. For example,\n",
    "```python\n",
    "a = 'Hello'\n",
    "print(a[0])\n",
    "print(a[1])\n",
    "print(a[2])\n",
    "print(a[3])\n",
    "print(a[4])\n",
    "```\n",
    "The reuslt would be  \n",
    "```text\n",
    "H\n",
    "e\n",
    "l\n",
    "l\n",
    "o\n",
    "```\n",
    "Following the example above, please write a code that\n",
    "* Assign \"Python\" to a, and \"course\" to b\n",
    "* Combine a and b using \"+\" operator, in a way that there's a **space** between a,b\n",
    "* Assign the combined string to c\n",
    "* Print the 1st, 7th and 13th character of c. (Remember Python counts from 0, so the first is 0)\n",
    "\n",
    "You should get the output as follows:\n",
    "```text\n",
    "P\n",
    " \n",
    "e\n",
    "```"
   ]
  },
  {
   "cell_type": "code",
   "execution_count": 6,
   "metadata": {},
   "outputs": [
    {
     "name": "stdout",
     "output_type": "stream",
     "text": [
      "P\n",
      " \n",
      "e\n"
     ]
    }
   ],
   "source": [
    "a = 'Python'\n",
    "b = 'course'\n",
    "c = a + ' ' + b\n",
    "print(c[0])\n",
    "print(c[6])\n",
    "print(c[12])"
   ]
  },
  {
   "cell_type": "markdown",
   "metadata": {},
   "source": [
    "(d) (10%) Following (b), Python supports a mechanism for \"counting backward.\" For example, if a = 'Hello', a[-1] would be 'o', a[-2] would be 'l', a[-3] would be 'l', and a[-4] would be 'e', and so on. For example,\n",
    "```python\n",
    "a = 'Hello'\n",
    "print(a[-1])\n",
    "print(a[-2])\n",
    "print(a[-3])\n",
    "print(a[-4])\n",
    "print(a[-5])\n",
    "```\n",
    "The reuslt would be  \n",
    "```text\n",
    "o\n",
    "l\n",
    "l\n",
    "e\n",
    "H\n",
    "```\n",
    "Following the example above, please write a code that\n",
    "* Assign \"Happy\" to a\n",
    "* Reverse the order of chracters in a and print it\n",
    "\n",
    "\n",
    "(Hint: combine the a[-1], a[-2],..., a[-5] and assign it to b. And then print b)\n",
    "\n",
    "You should get the output as follows:\n",
    "```text\n",
    "yppaH\n",
    "```"
   ]
  },
  {
   "cell_type": "code",
   "execution_count": 13,
   "metadata": {},
   "outputs": [
    {
     "name": "stdout",
     "output_type": "stream",
     "text": [
      "yppaH\n"
     ]
    }
   ],
   "source": [
    "a = 'Happy'\n",
    "b = a[-1] + a[-2] + a[-3] + a[-4] + a[-5]\n",
    "print(b)"
   ]
  },
  {
   "cell_type": "markdown",
   "metadata": {},
   "source": [
    "(e) (10%) Python supports printing characters starting from the i position and stopping at the j position (not including j) in a string with a step size k.  \n",
    "This is called \"string slicing.\" For example, if a = 'Hello', a[0:2:1] would print 'He' because a[0:2:1] prints characters from a[0] to a[1] position with a step of 1.  \n",
    "For another example,\n",
    "```python\n",
    "a = '123456789'\n",
    "print(a[0:5:2])\n",
    "print(a[-1:-5:-1])\n",
    "```\n",
    "The reuslt would be  \n",
    "```text\n",
    "135\n",
    "9876\n",
    "```\n",
    "For the 1st result, it prints the element of  0, (0+2), (2+2) position, which is equal to a[0]+a[2]+a[4].  \n",
    "For the 2nd result, it prints the element of -1, (-1-1), (-2-1), (-3-1) position, which is equal to a[-1]+a[-2]+a[-3]+a[-4]  \n",
    "You can get more information about string slicing from [here](https://medium.com/@kaifraza8329/string-slicing-and-functions-247e06a5becc).\n",
    "\n",
    "Following the example above, please write a code that\n",
    "* Assign \"Happy\" to a\n",
    "* Reverse the order of chracters **using string slicing** in a and print it \n",
    "\n",
    "You should get the output as follows:\n",
    "```text\n",
    "yppaH\n",
    "```"
   ]
  },
  {
   "cell_type": "code",
   "execution_count": 20,
   "metadata": {},
   "outputs": [
    {
     "name": "stdout",
     "output_type": "stream",
     "text": [
      "yppaH\n"
     ]
    }
   ],
   "source": [
    "a = 'Happy'\n",
    "b = a[-1:-6:-1]\n",
    "print(b)"
   ]
  },
  {
   "cell_type": "markdown",
   "metadata": {},
   "source": [
    "### 3. Python Comparison Operators (40%)\n",
    "In class, we have introduced arithmetic operators, which are used for numerical operations. In addition to these, Python also has various other operators, such as the ones we are going to introduce here, known as comparison operators."
   ]
  },
  {
   "cell_type": "markdown",
   "metadata": {},
   "source": [
    "(a) (10%) > and < are used for comparisons. If the relationship holds true, it will return a Boolean object True; if not, it will return False. For example, 5 > 3 is True, and 5 < 3 is False, as shown below:\n",
    "```python\n",
    "a = 5\n",
    "b = 3\n",
    "print(a<b)\n",
    "print(a>b)\n",
    "```\n",
    "The reuslt would be  \n",
    "```text\n",
    "False\n",
    "True\n",
    "```\n",
    "Following the example above, please write a code that\n",
    "* Assign 3.0/5.0 to a and 4.0/7.0 to b.\n",
    "* Print a, b, and a < b.\n",
    "\n",
    "You should get the output as follows:\n",
    "```text\n",
    "0.6\n",
    "0.5714285714285714\n",
    "False\n",
    "```"
   ]
  },
  {
   "cell_type": "code",
   "execution_count": 14,
   "metadata": {},
   "outputs": [
    {
     "name": "stdout",
     "output_type": "stream",
     "text": [
      "0.6\n",
      "0.5714285714285714\n",
      "False\n"
     ]
    }
   ],
   "source": [
    "a = 3.0/5.0\n",
    "b = 4.0/7.0\n",
    "print(a)\n",
    "print(b)\n",
    "print(a<b)"
   ]
  },
  {
   "cell_type": "markdown",
   "metadata": {},
   "source": [
    "(b) (10%) == (equal to) and != (not equal to) are used to determine whether two values are equal or not. If the relationship holds true, it will return True; if not, it will return False. For example, 5 == 3 is False, and 5 != 3 is True, as shown below:\n",
    "```python\n",
    "a = 5\n",
    "b = 3\n",
    "print(a==b)\n",
    "print(a!=b)\n",
    "```\n",
    "The reuslt would be  \n",
    "```text\n",
    "False\n",
    "True\n",
    "```\n",
    "Following the example above, please write a code that\n",
    "* Assign 3 to a and \"3\" to b.\n",
    "* Print a, b, and a == b.\n",
    "\n",
    "You should get the output as follows:\n",
    "```text\n",
    "3\n",
    "3\n",
    "False\n",
    "```"
   ]
  },
  {
   "cell_type": "code",
   "execution_count": 1,
   "metadata": {},
   "outputs": [
    {
     "name": "stdout",
     "output_type": "stream",
     "text": [
      "3\n",
      "3\n",
      "False\n"
     ]
    }
   ],
   "source": [
    "a = 3\n",
    "b = '3'\n",
    "print(a)\n",
    "print(b)\n",
    "print(a==b)"
   ]
  },
  {
   "cell_type": "markdown",
   "metadata": {},
   "source": [
    "(c) (10%) Python also has the >= (greater than or equal to) and <= (less than or equal to) operators. If the relationship holds true, it will return True; if not, it will return False. For example, 5 >= 3 is True, and 5 <= 3 is False. Please verify the following code in the cell below:\n",
    "```python\n",
    "a = 5\n",
    "b = 3\n",
    "print(a>=b)\n",
    "print(a<=b)\n",
    "```\n",
    "The reuslt would be  \n",
    "```text\n",
    "True\n",
    "False\n",
    "```\n",
    "Following the example above, please write a code that\n",
    "* Assign 3 to a and 10//3 to b.\n",
    "* Print a, b, a <= b, and a >= b.\n",
    "\n",
    "You should get the output as follows:\n",
    "```text\n",
    "3\n",
    "3\n",
    "True\n",
    "True\n",
    "```"
   ]
  },
  {
   "cell_type": "code",
   "execution_count": 18,
   "metadata": {},
   "outputs": [
    {
     "name": "stdout",
     "output_type": "stream",
     "text": [
      "3\n",
      "3\n",
      "True\n",
      "True\n"
     ]
    }
   ],
   "source": [
    "a = 3\n",
    "b = 10//3\n",
    "print(a)\n",
    "print(b)\n",
    "print(a<=b)\n",
    "print(a>=b)"
   ]
  },
  {
   "cell_type": "markdown",
   "metadata": {},
   "source": [
    "(d) (10%) Comparison operators can also be used to compare strings, with the most common ones being == or != to check if two strings are equal or not. For example, with a='Hello' and b='World', a == b would return False, as shown below:\n",
    "```python\n",
    "print('Hello'=='World')\n",
    "print('Hello'!='World')\n",
    "```\n",
    "The reuslt would be  \n",
    "```text\n",
    "False\n",
    "True\n",
    "```\n",
    "Following the example above, please write a code that\n",
    "* Assign 'Hey' to a and 'hey' to b.\n",
    "* Print a == b.\n",
    "\n",
    "You should get the output as follows:\n",
    "```text\n",
    "False\n",
    "```"
   ]
  },
  {
   "cell_type": "code",
   "execution_count": 19,
   "metadata": {},
   "outputs": [
    {
     "name": "stdout",
     "output_type": "stream",
     "text": [
      "False\n"
     ]
    }
   ],
   "source": [
    "a = 'Hey'\n",
    "b = 'hey'\n",
    "print(a==b)"
   ]
  }
 ],
 "metadata": {
  "kernelspec": {
   "display_name": "Python 3 (ipykernel)",
   "language": "python",
   "name": "python3"
  },
  "language_info": {
   "codemirror_mode": {
    "name": "ipython",
    "version": 3
   },
   "file_extension": ".py",
   "mimetype": "text/x-python",
   "name": "python",
   "nbconvert_exporter": "python",
   "pygments_lexer": "ipython3",
   "version": "3.11.4"
  }
 },
 "nbformat": 4,
 "nbformat_minor": 4
}
