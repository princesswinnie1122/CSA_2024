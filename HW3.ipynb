{
 "cells": [
  {
   "cell_type": "markdown",
   "metadata": {},
   "source": [
    "<div class=\"alert alert-block alert-warning\">\n",
    "<font size=\"5\">\n",
    "<b>Important Notes</b></font><br>\n",
    "<br>\n",
    "<font size=\"4\">\n",
    "<ul>\n",
    "  <li>File names should follow the format: HWX_StudentID_Name, where X is the assignment number.</li>\n",
    "    <br>\n",
    "  <li>Please upload it to NTHU eeclass and be awared of the deadline.</li>\n",
    "    <br>\n",
    "  <li>Late submissions are generally not accepted, and a late submission will result in a score of 0. If there are any special circumstances, please contact the instructor for clarification.</li>\n",
    "    <br>\n",
    "  <li>Plagiarism is strictly prohibited (whether copying from others, the internet, or books). If any references are used, they must be properly cited. Both the plagiarizer and the source of the plagiarism will receive a score of 0. Allowing someone else to copy your assignment is not helping but harming them.</li>\n",
    "    <br>\n",
    "  <li>Code should be written in the \"Python Cell\" below the question, with comments if needed. If responses to questions and interpretations of results are needed, they should be written in the \"Markdown Cell\" below the Python cell.</li>\n",
    "</ul>\n",
    "</font>\n",
    "</div>"
   ]
  },
  {
   "cell_type": "markdown",
   "metadata": {},
   "source": [
    "# 1. (60%) Calculating π using Monte Carlo method\n",
    "π is a very interesting constant in Mathematics. One way to estimate π is using the famous Monte-Carlo method (or dart shooting method).\n",
    "Consider 1/4 of a circle and a square (see figure below). The ratio of the area of the 1/4 circle to the area of the square is:\n",
    "\n",
    "$${A_{circle} \\over A_{square}} = {{1 \\over 4} \\pi x^2 \\over x^2 } = {\\pi \\over 4}  $$\n",
    "\n",
    "Now, imagine that we repeat throwing a dart on the square many many times. If the location of the dart on the square each time is totally random, we shall find that the ratio of the darts lying within the 1/4 circle ($N_{circle}$) to the darts lying within the square ($N_{square}$) is close to π/4, as shown in the figure below.\n",
    "\n",
    "$${N_{circle} \\over N_{square}} \\approx {\\pi \\over 4}  $$\n",
    "\n",
    "<p align=\"center\">\n",
    "    <img src=\"https://blogs.sas.com/content/iml/files/2016/03/mcestpi1.png\">\n",
    "p>\n",
    "\n",
    "Therefore, we could get a close estimation of π if we \"throw\" darts many many times.\n",
    "\n",
    "To fulfill this task, your code should consider the following steps:\n",
    "1. Generate a pair of random numbers (x,y). Each of them should be located between 0 and 1.\n",
    "2. Determine if this coordinate lies within the circle.\n",
    "3. If 2. is true, $N_{circle} += 1$ and $N_{square} += 1$, else only  $N_{square} += 1$.  \n",
    "4. Do this multiple times, and then calculate ${N_{circle}/N_{square}}  $  \n",
    "\n",
    "The question set below would help you to build up your own Monte Carlo code."
   ]
  },
  {
   "cell_type": "markdown",
   "metadata": {},
   "source": [
    "(a) (10%) **Generate a random floating number between 0 and 1**  \n",
    "To *randomly throw a dart* within a square defined in the range:  \n",
    "                         \n",
    "                         \n",
    "$ 0 <= x <= 1 $ and $ 0 <= y <= 1$   \n",
    "                         \n",
    "\n",
    "we could generate a random floating number for x and y lying between 0 and 1 each time.  \n",
    "This could be done by using a function implemented in the random module.  \n",
    "For example, the following code generates a random floating number between 0 and 1.\n",
    "\n",
    "\n",
    "```python\n",
    "import random as rd\n",
    "x = rd.uniform(0,1)\n",
    "print(x)\n",
    "```\n",
    "\n",
    "\n",
    "where you will get different values each time you run the code.\n",
    "Following the example above, please write a code that\n",
    "* Generate a pair of values (x,y)\n",
    "* x and y are the random numbers between 0 and 1\n",
    "* Print the x and y following the output format shown below.\n",
    "\n",
    "After executing your code, you shall get something like:   \n",
    "```\n",
    "The random values x and y are 0.7172437596789355 and 0.11108738462210088, respectively.\n",
    "```\n",
    "While the values you obtain may be different from those shown above, you shoud follow the same format of output."
   ]
  },
  {
   "cell_type": "code",
   "execution_count": 1,
   "metadata": {},
   "outputs": [
    {
     "name": "stdout",
     "output_type": "stream",
     "text": [
      "The random values x and y are 0.732492385461279 and 0.25492926777637825, respectively.\n"
     ]
    }
   ],
   "source": [
    "import random as rd\n",
    "x = rd.uniform(0, 1)\n",
    "y = rd.uniform(0, 1)\n",
    "print(f\"The random values x and y are {x} and {y}, respectively.\")"
   ]
  },
  {
   "cell_type": "markdown",
   "metadata": {},
   "source": [
    "(b) (10%) **Determine if the (x,y) coordinate lies within the circle**  \n",
    "It is simple to determine if the coordinate (x,y) lies within the circle using the inequality below:\n",
    " $$ x^2 + y^2 <= 1.0$$\n",
    "If the inequality holds, the (x,y) lies within the circle; else it does not.\n",
    "\n",
    "Following this idea, please write a code that follows the rules below:\n",
    "* Define a function shot(), which generates a pair of random floating values (x,y) using the code block from 1(a).\n",
    "* If (x,y) \n",
    "    * lies in the circle, print the coordinate lies in the circle.\n",
    "    * does not lie in the circle, print the coordinate does not lie in the circle.\n",
    "\n",
    "After executing your code, you shall get something like:  \n",
    "```\n",
    "x^2+y^2 is: 1.6470597505380806\n",
    "(0.9575456218577098,0.8544975907509702) is not in the circle!\n",
    "```\n",
    "Or\n",
    "```\n",
    "x^2+y^2 is: 0.5433698048189768\n",
    "(0.018976974094249033,0.7368919047412605) is in the circle!\n",
    "```\n",
    "While the values you obtain may be different from those shown above, you shoud follow the same format of output."
   ]
  },
  {
   "cell_type": "code",
   "execution_count": 2,
   "metadata": {},
   "outputs": [
    {
     "name": "stdout",
     "output_type": "stream",
     "text": [
      "x^2+y^2 is: 0.9968089475695922\n",
      "(0.9895902638911472, 0.13236335286415812) is in the circle!\n"
     ]
    }
   ],
   "source": [
    "import random as rd\n",
    "\n",
    "def shot():\n",
    "    x = rd.uniform(0, 1)\n",
    "    y = rd.uniform(0, 1)\n",
    "    return x, y\n",
    "\n",
    "x, y = shot()\n",
    "print(f\"x^2+y^2 is: {x**2 + y**2}\")\n",
    "if(x**2 + y**2 <= 1):\n",
    "    print(f\"({x}, {y}) is in the circle!\")\n",
    "else:\n",
    "    print(f\"({x}, {y}) is not in the circle!\")"
   ]
  },
  {
   "cell_type": "markdown",
   "metadata": {},
   "source": [
    "(c) (20%) **Count each shot for an 100 Monte Carlo shots**  \n",
    "Now, let's write a for loop to make N random shots. For each shot, we'd need to determine whether the shot is made within the circle.  \n",
    "Please write the code that:\n",
    "\n",
    "* Write a for loop that iterate 100 times.\n",
    "* In each iteration, \n",
    "    * Make a random shot (x,y) ... (a)\n",
    "    * Calculate if (x,y) lies in circle ... (b)\n",
    "        * If (x,y) in circle, N_circle += 1 and N_sqaure += 1.\n",
    "        * Else, only N_sqaure += 1.\n",
    "* Calculate and print N_circle/N_square * 4\n",
    "\n",
    "After executing your code, you shall get something like:\n",
    "\n",
    "```\n",
    "The estimated π value using 100 MC shots is: 3.28 \n",
    "```\n",
    "\n",
    "While the values you obtain may be different from those shown above, you shoud follow the same format of output."
   ]
  },
  {
   "cell_type": "code",
   "execution_count": 7,
   "metadata": {},
   "outputs": [
    {
     "name": "stdout",
     "output_type": "stream",
     "text": [
      "The estimated π value using 100 MC shots is: 3.16\n"
     ]
    }
   ],
   "source": [
    "import random as rd\n",
    "\n",
    "def shot():\n",
    "    x = rd.uniform(0, 1)\n",
    "    y = rd.uniform(0, 1)\n",
    "    return x, y\n",
    "\n",
    "N_circle, N_square = 0, 0\n",
    "for i in range (100):\n",
    "    x, y = shot()\n",
    "    if(x**2 + y**2 <= 1):\n",
    "        N_circle += 1\n",
    "        N_square += 1\n",
    "    else:\n",
    "        N_square += 1\n",
    "print(f\"The estimated π value using 100 MC shots is: {N_circle/N_square * 4}\")"
   ]
  },
  {
   "cell_type": "markdown",
   "metadata": {},
   "source": [
    "(d) (20%) **Estimate the error between the estimated and reference π value**  \n",
    "Finally, we will calculate the relative error between our estimated π and a reference π.\n",
    "The relative error is calculated using:\n",
    "\n",
    "$$ error(\\%) = {π_{estimated} - π_{reference} \\over  π_{reference}} *100\\% $$\n",
    "\n",
    "Please loop over N = 1,10,100,1000,10000,100000, and 1000000.  \n",
    "In each loop, do exactly what you did in 1(c).\n",
    "* Write a for loop that iterate N times.\n",
    "* In each iteration, \n",
    "    * Make a random shot (x,y) ... (a)\n",
    "    * Calculate if (x,y) lies in circle ... (b)\n",
    "        * If (x,y) in circle, N_circle += 1 and N_sqaure += 1.\n",
    "        * Else, only N_sqaure += 1.\n",
    "* Calculate N_circle/N_square * 4\n",
    "* Calculate and print the estimated value and the relative error. **Use 3.141592653589793 as the reference value.**\n",
    "\n",
    "After executing your code, you shall get something like:\n",
    "```\n",
    "Estimated π:        0.0; relative error:    -100.00% using          1 MC shots\n",
    "Estimated π:        4.0; relative error:      27.32% using         10 MC shots\n",
    "Estimated π:       3.36; relative error:       6.95% using        100 MC shots\n",
    "Estimated π:      3.112; relative error:      -0.94% using       1000 MC shots\n",
    "Estimated π:     3.1388; relative error:      -0.09% using      10000 MC shots\n",
    "Estimated π:     3.1476; relative error:       0.19% using     100000 MC shots\n",
    "Estimated π:    3.14284; relative error:       0.04% using    1000000 MC shots\n",
    "```\n",
    "While the values you obtain may be different from those shown above, you should follow the same format of output."
   ]
  },
  {
   "cell_type": "code",
   "execution_count": 29,
   "metadata": {},
   "outputs": [
    {
     "name": "stdout",
     "output_type": "stream",
     "text": [
      "Estimated π:        4.0; relative error:      27.32% using          1 MC shots\n",
      "Estimated π:        2.8; relative error:     -10.87% using         10 MC shots\n",
      "Estimated π:       3.28; relative error:       4.41% using        100 MC shots\n",
      "Estimated π:       3.04; relative error:      -3.23% using       1000 MC shots\n",
      "Estimated π:     3.1344; relative error:      -0.23% using      10000 MC shots\n",
      "Estimated π:     3.1386; relative error:      -0.10% using     100000 MC shots\n",
      "Estimated π:   3.139224; relative error:      -0.08% using    1000000 MC shots\n"
     ]
    }
   ],
   "source": [
    "import random as rd\n",
    "\n",
    "def shot():\n",
    "    x = rd.uniform(0, 1)\n",
    "    y = rd.uniform(0, 1)\n",
    "    return x, y\n",
    "\n",
    "N = 1\n",
    "while N <= 1000000:\n",
    "    N_circle, N_square = 0, 0\n",
    "    for i in range (N):\n",
    "        x, y = shot()\n",
    "        if(x**2 + y**2 <= 1):\n",
    "            N_circle += 1\n",
    "            N_square += 1\n",
    "        else:\n",
    "            N_square += 1\n",
    "    pi = 3.141592653589793\n",
    "    pi_mc = N_circle/N_square * 4\n",
    "    error = (pi_mc - pi)/pi * 100\n",
    "    print(f\"Estimated π: {pi_mc:10}; relative error: {error:10.2f}% using {N:10} MC shots\")\n",
    "    N *= 10"
   ]
  },
  {
   "cell_type": "markdown",
   "metadata": {},
   "source": [
    "### 2. The equations of state (40%)\n",
    "Equation of state models are mathematical expressions that describe the relationship between the thermodynamic properties of a substance. Here, we'll introduce two different equations of state: ideal gas and Van der Waals.\n",
    "\n",
    "1. **Ideal Gas Equation**: The ideal gas equation is a fundamental model that describes the behavior of an ideal gas under various conditions. It is expressed as: \n",
    " $$ P = {nRT \\over V} $$  \n",
    " where: $P$ is the pressure, $V$ is the volume, $n$ represents the number of moles of the gas, $R$ is the ideal gas constant and $T$ is the absolute temperature.  \n",
    " The ideal gas equation assumes that gas particles have negligible volume and that there are no intermolecular forces.   \n",
    " \n",
    "\n",
    "2. **Van der Waals Equation**: The Van der Waals equation provides a more realistic representation of real gas behavior by incorporating corrections for the volume occupied by gas    molecules and intermolecular forces. It is given by: \n",
    " $$ P = {nRT \\over V-nb} - {n^2a \\over V^2}$$\n",
    " where: $P$, $V$, $n$, $R$, and $T$ have the same meanings as in the ideal gas equation. The parameter $a$ accounts for attractive forces between molecules and  $b$ adjusts for the finite volume occupied by gas molecules. The Van der Waals equation improves accuracy over the ideal gas equation, particularly at high pressures and low temperatures."
   ]
  },
  {
   "cell_type": "markdown",
   "metadata": {},
   "source": [
    "(a) (20%) Let's consider the equation of state of CO<sub>2</sub>. Please define two functions p_ideal, and p_vdw that takes $n$, $V$, $T$, and $a,b$ (if needed) as input and output the pressure (in Pa). The gas constant $R = 8.31446261815324 \\ \\mathrm{J \\ K^{-1} \\ mol^{-1}}$  should be defined in the global namespace. The parameters a and b are shown below:\n",
    "\n",
    "$ a_{vdw} = 3.640 \\ \\mathrm{L^2 \\ bar \\ mol^{-2}}$; $ b_{vdw} = 0.04267 \\ \\mathrm{L \\ mol^{-1}}$   \n",
    "\n",
    "\n",
    "Test you code:  \n",
    "If $ n = 1 \\ \\mathrm {mol}, T = 273.15 \\ \\mathrm {K}, V = 0.02 \\ \\mathrm {m^3}$, your code should output:  \n",
    "```\n",
    "n = 1 mol, T = 273.15 K, and V = 0.02 m^3\n",
    "Ideal:         p = 113554.773 Pa\n",
    "Van der Waals: p = 112887.560 Pa\n",
    "```\n",
    "\n",
    "\n",
    "**Please follow exactly the same output format shown above.**"
   ]
  },
  {
   "cell_type": "code",
   "execution_count": 45,
   "metadata": {},
   "outputs": [
    {
     "name": "stdout",
     "output_type": "stream",
     "text": [
      "n = 1 mol, T = 273.15 K, and V = 0.02 m^3\n",
      "Ideal:         p = 113554.773 Pa\n",
      "Van der Waals: p = 112887.560 Pa\n"
     ]
    }
   ],
   "source": [
    "R = 8.31446261815324\n",
    "\n",
    "def p_ideal(n, V, T):\n",
    "    return n* R * T / V\n",
    "\n",
    "def p_vdw(n, V, T, a, b):\n",
    "    return n * R * T / (V - n*b) - n**2 * a / V**2\n",
    "\n",
    "n = 1\n",
    "T = 273.15\n",
    "V = 0.02\n",
    "a = 3.640*0.1 # convert to Pa·m⁶/mol²\n",
    "b = 0.04267*10**(-3) # convert to m³/mol\n",
    "\n",
    "print(f\"n = {n} mol, T = {T} K, and V = {V} m^3\")\n",
    "print(f\"Ideal:         p = {p_ideal(n, V, T):10.3f} Pa\")\n",
    "print(f\"Van der Waals: p = {p_vdw(n, V, T, a, b):10.3f} Pa\")"
   ]
  },
  {
   "cell_type": "markdown",
   "metadata": {},
   "source": [
    "(b) (20%) Using the function defined above, write the equation of state data into a file \"EOS_CO2.txt\". When you open the .txt file, **the format should look exactly like below**:\n",
    "\n",
    "```text\n",
    "T = 273.15 K, and V = 0.02 m^3\n",
    " n (mol)   P_ideal (Pa)     P_vdw (Pa)\n",
    "    0.10      11355.477      11348.801\n",
    "    0.20      22710.955      22684.250\n",
    "    0.30      34066.432      34006.350\n",
    "    0.40      45421.909      45315.105\n",
    "    0.50      56777.387      56610.519\n",
    "    0.60      68132.864      67892.593\n",
    "    0.70      79488.341      79161.331\n",
    "    0.80      90843.819      90416.736\n",
    "    0.90     102199.296     101658.811\n",
    "    1.00     113554.773     112887.560\n",
    "    1.10     124910.251     124102.986\n",
    "    1.20     136265.728     135305.091\n",
    "    1.30     147621.205     146493.879\n",
    "    1.40     158976.682     157669.353\n",
    "    1.50     170332.160     168831.515\n",
    "    1.60     181687.637     179980.370\n",
    "    1.70     193043.114     191115.921\n",
    "    1.80     204398.592     202238.170\n",
    "    1.90     215754.069     213347.120\n",
    "    2.00     227109.546     224442.776\n",
    "```"
   ]
  },
  {
   "cell_type": "code",
   "execution_count": 50,
   "metadata": {},
   "outputs": [],
   "source": [
    "R = 8.31446261815324\n",
    "T = 273.15  \n",
    "V = 0.02 \n",
    "a = 3.640*0.1 # convert to Pa·m⁶/mol²\n",
    "b = 0.04267*10**(-3) # convert to m³/mol\n",
    "\n",
    "def p_ideal(n, V, T):\n",
    "    return n * R * T / V\n",
    "\n",
    "def p_vdw(n, V, T, a, b):\n",
    "    return n * R * T / (V - n*b) - n**2 * a / V**2\n",
    "\n",
    "with open(\"EOS_CO2.txt\", \"w\") as file:\n",
    "    file.write(\"T = 273.15 K, and V = 0.02 m^3\\n\")\n",
    "    file.write(\" n (mol)   P_ideal (Pa)     P_vdw (Pa)\\n\")\n",
    "    \n",
    "    for i in range(1, 21):\n",
    "        n = i * 0.1\n",
    "        file.write(f\"    {n:<5.2f} {p_ideal(n, V, T):14.3f} {p_vdw(n, V, T, a, b):14.3f}\\n\")"
   ]
  }
 ],
 "metadata": {
  "kernelspec": {
   "display_name": "Python 3 (ipykernel)",
   "language": "python",
   "name": "python3"
  },
  "language_info": {
   "codemirror_mode": {
    "name": "ipython",
    "version": 3
   },
   "file_extension": ".py",
   "mimetype": "text/x-python",
   "name": "python",
   "nbconvert_exporter": "python",
   "pygments_lexer": "ipython3",
   "version": "3.11.4"
  }
 },
 "nbformat": 4,
 "nbformat_minor": 4
}
